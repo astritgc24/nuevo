{
 "cells": [
  {
   "cell_type": "code",
   "execution_count": null,
   "id": "23b2658d-a05a-4615-b2b2-8a20d66fa9f8",
   "metadata": {},
   "outputs": [],
   "source": [
    "pip install dlib\n"
   ]
  },
  {
   "cell_type": "code",
   "execution_count": 17,
   "id": "986f037d-c73c-4071-8fc7-1af590226e8e",
   "metadata": {},
   "outputs": [
    {
     "ename": "AttributeError",
     "evalue": "module 'mediapipe' has no attribute 'get_frontal_face_detector'",
     "output_type": "error",
     "traceback": [
      "\u001b[0;31m---------------------------------------------------------------------------\u001b[0m",
      "\u001b[0;31mAttributeError\u001b[0m                            Traceback (most recent call last)",
      "Cell \u001b[0;32mIn[17], line 10\u001b[0m\n\u001b[1;32m      7\u001b[0m predictor_path \u001b[38;5;241m=\u001b[39m \u001b[38;5;124m'\u001b[39m\u001b[38;5;124mshape_predictor_68_face_landmarks.dat\u001b[39m\u001b[38;5;124m'\u001b[39m\n\u001b[1;32m      9\u001b[0m \u001b[38;5;66;03m# Cargar el detector de rostros y el predictor de puntos faciales\u001b[39;00m\n\u001b[0;32m---> 10\u001b[0m detector \u001b[38;5;241m=\u001b[39m mp\u001b[38;5;241m.\u001b[39mget_frontal_face_detector()\n\u001b[1;32m     11\u001b[0m predictor \u001b[38;5;241m=\u001b[39m mp\u001b[38;5;241m.\u001b[39mshape_predictor(predictor_path)\n\u001b[1;32m     13\u001b[0m \u001b[38;5;66;03m# Cargar la imagen\u001b[39;00m\n",
      "\u001b[0;31mAttributeError\u001b[0m: module 'mediapipe' has no attribute 'get_frontal_face_detector'"
     ]
    }
   ],
   "source": []
  },
  {
   "cell_type": "code",
   "execution_count": null,
   "id": "86c18ccd-8704-4b3c-9220-d31b17b3ed26",
   "metadata": {},
   "outputs": [],
   "source": []
  }
 ],
 "metadata": {
  "kernelspec": {
   "display_name": "Python 3 (ipykernel)",
   "language": "python",
   "name": "python3"
  },
  "language_info": {
   "codemirror_mode": {
    "name": "ipython",
    "version": 3
   },
   "file_extension": ".py",
   "mimetype": "text/x-python",
   "name": "python",
   "nbconvert_exporter": "python",
   "pygments_lexer": "ipython3",
   "version": "3.12.4"
  }
 },
 "nbformat": 4,
 "nbformat_minor": 5
}
